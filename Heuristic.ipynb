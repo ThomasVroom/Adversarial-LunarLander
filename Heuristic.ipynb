{
 "cells": [
  {
   "cell_type": "markdown",
   "id": "5776b65f",
   "metadata": {},
   "source": [
    "# Heuristic\n",
    "\n",
    "source: https://github.com/Farama-Foundation/Gymnasium/blob/main/gymnasium/envs/box2d/lunar_lander.py"
   ]
  },
  {
   "cell_type": "code",
   "execution_count": 1,
   "id": "5f8db479",
   "metadata": {},
   "outputs": [
    {
     "name": "stdout",
     "output_type": "stream",
     "text": [
      "Number of cores available: 12\n"
     ]
    }
   ],
   "source": [
    "import torch\n",
    "import numpy as np\n",
    "import multiprocessing\n",
    "import gymnasium as gym\n",
    "\n",
    "from src.env import CustomLunarLander\n",
    "from src.models import heuristic\n",
    "from src import util\n",
    "\n",
    "np.seterr(all='raise'); # raise exceptions on errors\n",
    "print(f\"Number of cores available: {multiprocessing.cpu_count()}\")\n",
    "gym.register(id=\"CustomLunarLander-v0\", entry_point=CustomLunarLander)"
   ]
  },
  {
   "cell_type": "markdown",
   "id": "bfe9996e",
   "metadata": {},
   "source": [
    "### Visualize Episode"
   ]
  },
  {
   "cell_type": "code",
   "execution_count": 3,
   "id": "90ab1a00",
   "metadata": {},
   "outputs": [
    {
     "name": "stderr",
     "output_type": "stream",
     "text": [
      "c:\\Users\\Thoma\\OneDrive\\Documenten\\University\\Year 4\\Period 5\\Reinforcement Learning\\Assignment\\.venv\\Lib\\site-packages\\gymnasium\\wrappers\\rendering.py:283: UserWarning: \u001b[33mWARN: Overwriting existing videos at c:\\Users\\Thoma\\OneDrive\\Documenten\\University\\Year 4\\Period 5\\Reinforcement Learning\\Assignment\\videos\\heuristic folder (try specifying a different `video_folder` for the `RecordVideo` wrapper if this is not desired)\u001b[0m\n",
      "  logger.warn(\n"
     ]
    },
    {
     "name": "stdout",
     "output_type": "stream",
     "text": [
      "Collected a total reward of: 254.53105847052646\n"
     ]
    }
   ],
   "source": [
    "# create agent\n",
    "class AgentWrapper:\n",
    "    def get_action(self, obs):\n",
    "        return torch.tensor(heuristic(np.array([obs]))[0])\n",
    "agent = AgentWrapper()\n",
    "\n",
    "util.visualize_episode(\n",
    "    env_id=\"CustomLunarLander-v0\",\n",
    "    gravity=-10.0,\n",
    "    enable_wind=False,\n",
    "    wind_power=15.0,\n",
    "    turbulence_power=1.5,\n",
    "    agent=agent,\n",
    "    seed=None,\n",
    "    max_time=30,\n",
    "    video_name=\"heuristic\"\n",
    ")"
   ]
  }
 ],
 "metadata": {
  "kernelspec": {
   "display_name": ".venv",
   "language": "python",
   "name": "python3"
  },
  "language_info": {
   "codemirror_mode": {
    "name": "ipython",
    "version": 3
   },
   "file_extension": ".py",
   "mimetype": "text/x-python",
   "name": "python",
   "nbconvert_exporter": "python",
   "pygments_lexer": "ipython3",
   "version": "3.13.3"
  }
 },
 "nbformat": 4,
 "nbformat_minor": 5
}
